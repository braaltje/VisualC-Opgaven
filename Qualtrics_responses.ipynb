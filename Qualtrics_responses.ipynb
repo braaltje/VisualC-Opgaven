{
 "cells": [
  {
   "cell_type": "code",
   "execution_count": 0,
   "metadata": {
    "application/vnd.databricks.v1+cell": {
     "cellMetadata": {
      "byteLimit": 2048000,
      "rowLimit": 10000
     },
     "inputWidgets": {},
     "nuid": "b4a90f43-1f19-4c97-8e61-0c6c9a156524",
     "showTitle": false,
     "title": ""
    }
   },
   "outputs": [],
   "source": [
    "# imports\n",
    "from pyspark.sql import functions as F\n",
    "from pyspark.sql import types as T"
   ]
  },
  {
   "cell_type": "code",
   "execution_count": 0,
   "metadata": {
    "application/vnd.databricks.v1+cell": {
     "cellMetadata": {
      "byteLimit": 2048000,
      "rowLimit": 10000
     },
     "inputWidgets": {},
     "nuid": "ea36655a-7332-4303-a96d-18be3b3eb7c2",
     "showTitle": false,
     "title": ""
    }
   },
   "outputs": [],
   "source": [
    "# read the data\n",
    "df = spark.read.json(\"abfss://edaauthoring@stdncuscomlzwork.dfs.core.windows.net/Qualtrics/Dow Direct Relationship Survey.json\")\n",
    "df.printSchema()\n",
    "\n",
    "# alternative file location: \n",
    "#df = spark.read.json(f\"/Workspace/Users/ub00049@dow.com/Qualtrics_Source_Files/data/DowDirectRelationshipSurvey.json\")\n",
    "#df.printSchema()"
   ]
  },
  {
   "cell_type": "code",
   "execution_count": 0,
   "metadata": {
    "application/vnd.databricks.v1+cell": {
     "cellMetadata": {
      "byteLimit": 2048000,
      "rowLimit": 10000
     },
     "collapsed": true,
     "inputWidgets": {},
     "nuid": "7960c522-2464-403b-ab7a-909b362e0cac",
     "showTitle": false,
     "title": ""
    }
   },
   "outputs": [],
   "source": [
    "# don't use this approach. Returns 'responses' as a struct and cannot call explode() on a struct\n",
    "\n",
    "# df_new = df.withColumn(\n",
    "#     \"responses\", \n",
    "#     F.struct(\n",
    "#         F.col(\"responses.responseId\").alias(\"responseId\"),\n",
    "#         F.col(\"responses.values\").alias(\"values\"),\n",
    "#         F.col(\"responses.labels\").alias(\"labels\")\n",
    "#     )\n",
    "# )\n",
    "# df_new.printSchema()"
   ]
  },
  {
   "cell_type": "code",
   "execution_count": 0,
   "metadata": {
    "application/vnd.databricks.v1+cell": {
     "cellMetadata": {
      "byteLimit": 2048000,
      "rowLimit": 10000
     },
     "inputWidgets": {},
     "nuid": "b0f9a29a-7726-49cc-bb51-472fd9f13920",
     "showTitle": false,
     "title": ""
    }
   },
   "outputs": [],
   "source": [
    "# keep only the required fields in the 'responses' array; drop displayedFields and displayedLabels\n",
    "# expr(transform()) returns 'responses' column as an array instead of a struct, so explode() can be used in a later step\n",
    "df = df.withColumn(\n",
    "    \"responses\",\n",
    "    F.expr(\"\"\"\n",
    "        transform(\n",
    "            responses,\n",
    "            r -> struct(\n",
    "                r.responseId as responseId,\n",
    "                r.values as values,\n",
    "                r.labels as labels\n",
    "            )\n",
    "        )\n",
    "    \"\"\")\n",
    ")\n",
    "df.printSchema()"
   ]
  },
  {
   "cell_type": "code",
   "execution_count": 0,
   "metadata": {
    "application/vnd.databricks.v1+cell": {
     "cellMetadata": {
      "byteLimit": 2048000,
      "rowLimit": 10000
     },
     "inputWidgets": {},
     "nuid": "a66cf453-ea65-4111-8b3d-7e35e977fcc9",
     "showTitle": false,
     "title": ""
    }
   },
   "outputs": [],
   "source": [
    "# move responseId, values and labels  to top level schema and explode values\n",
    "\n",
    "# Explode the 'responses' array to break it into individual rows\n",
    "df_flattened = df.withColumn(\"response\", F.explode(\"responses\"))\n",
    "\n",
    "# Select the 'responseId' at the top level, but retain 'values' and 'labels' as nested structures\n",
    "df_flattened = df_flattened.select(\n",
    "    \"response.responseId\",\n",
    "    \"response.values\",\n",
    "    \"response.labels\"\n",
    ")\n",
    "\n",
    "df_flattened.printSchema()"
   ]
  },
  {
   "cell_type": "code",
   "execution_count": 0,
   "metadata": {
    "application/vnd.databricks.v1+cell": {
     "cellMetadata": {
      "byteLimit": 2048000,
      "rowLimit": 10000
     },
     "inputWidgets": {},
     "nuid": "39859455-767e-4629-944b-5b14a95b548a",
     "showTitle": false,
     "title": ""
    }
   },
   "outputs": [],
   "source": [
    "# flip values keys to columns\n",
    "df_values = df_flattened.select(\n",
    "    \"responseId\",\n",
    "    \"labels\",\n",
    "    *[F.col(f\"values.{c}\").alias(c) for c in df_flattened.schema[\"values\"].dataType.fieldNames()]\n",
    ")\n",
    "df_values.printSchema()\n",
    "display(df_values)"
   ]
  },
  {
   "cell_type": "code",
   "execution_count": 0,
   "metadata": {
    "application/vnd.databricks.v1+cell": {
     "cellMetadata": {
      "byteLimit": 2048000,
      "rowLimit": 10000
     },
     "inputWidgets": {},
     "nuid": "40451f2f-dae3-4a27-9657-eea1d8a43a5b",
     "showTitle": false,
     "title": ""
    }
   },
   "outputs": [],
   "source": [
    "# get the QID columns,  flatten the labels struct\n",
    "qid_cols = df_values.select(\n",
    "    \"responseId\",\n",
    "    *[col for col in df_values.columns if col.startswith(\"QID\")])\n",
    "qid_cols.printSchema()"
   ]
  },
  {
   "cell_type": "code",
   "execution_count": 0,
   "metadata": {
    "application/vnd.databricks.v1+cell": {
     "cellMetadata": {
      "byteLimit": 2048000,
      "rowLimit": 10000
     },
     "inputWidgets": {},
     "nuid": "02e3a602-ed2c-4bcd-866b-c0212be0a424",
     "showTitle": false,
     "title": ""
    }
   },
   "outputs": [],
   "source": [
    "# convert all columns to stringtype\n",
    "qid_cols = qid_cols.select([F.col(c).cast(T.StringType()) for c in qid_cols.columns])\n",
    "qid_cols.printSchema()"
   ]
  },
  {
   "cell_type": "code",
   "execution_count": 0,
   "metadata": {
    "application/vnd.databricks.v1+cell": {
     "cellMetadata": {
      "byteLimit": 2048000,
      "rowLimit": 10000
     },
     "collapsed": true,
     "inputWidgets": {},
     "nuid": "8a9f2c2d-9837-40a2-a9af-aef44e660bbc",
     "showTitle": false,
     "title": ""
    }
   },
   "outputs": [],
   "source": [
    "# validation step\n",
    "display(qid_cols.select(F.col(\"QID146\")).filter(F.col(\"QID146\").isNotNull()))\n"
   ]
  },
  {
   "cell_type": "code",
   "execution_count": 0,
   "metadata": {
    "application/vnd.databricks.v1+cell": {
     "cellMetadata": {
      "byteLimit": 2048000,
      "rowLimit": 10000
     },
     "inputWidgets": {},
     "nuid": "4ea26259-d931-4bfb-8f7d-19287a8c8926",
     "showTitle": false,
     "title": ""
    }
   },
   "outputs": [],
   "source": [
    "# melt qid columns\n",
    "df_qid_melted = qid_cols.melt(\n",
    "    ids=\"responseId\",\n",
    "    values=([col for col in qid_cols.columns if col != \"responseId\"]),\n",
    "    variableColumnName=\"qid\",\n",
    "    valueColumnName=\"qid_response\"\n",
    ")\n",
    "display(df_qid_melted)"
   ]
  },
  {
   "cell_type": "code",
   "execution_count": 0,
   "metadata": {
    "application/vnd.databricks.v1+cell": {
     "cellMetadata": {
      "byteLimit": 2048000,
      "rowLimit": 10000
     },
     "inputWidgets": {},
     "nuid": "57fcb7c9-23cc-4066-8fcc-01d244a361c5",
     "showTitle": false,
     "title": ""
    }
   },
   "outputs": [],
   "source": [
    "# get label columns\n",
    "df_labels = df_flattened.select(\n",
    "    F.col(\"responseId\"),\n",
    "    *[F.col(f\"labels.{c}\").alias(c) for c in df_flattened.schema[\"labels\"].dataType.fieldNames()]\n",
    ")"
   ]
  },
  {
   "cell_type": "code",
   "execution_count": 0,
   "metadata": {
    "application/vnd.databricks.v1+cell": {
     "cellMetadata": {
      "byteLimit": 2048000,
      "rowLimit": 10000
     },
     "collapsed": true,
     "inputWidgets": {},
     "nuid": "118a4afb-0725-48fa-ad50-0181b1a3a6bd",
     "showTitle": false,
     "title": ""
    }
   },
   "outputs": [],
   "source": [
    "# cast label columns to string type\n",
    "df_labels = df_labels.select([F.col(c).cast(T.StringType()) for c in df_labels.columns])\n",
    "df_labels.printSchema()"
   ]
  },
  {
   "cell_type": "code",
   "execution_count": 0,
   "metadata": {
    "application/vnd.databricks.v1+cell": {
     "cellMetadata": {
      "byteLimit": 2048000,
      "rowLimit": 10000
     },
     "inputWidgets": {},
     "nuid": "364c9015-e357-4be6-ab22-21650ac6102a",
     "showTitle": false,
     "title": ""
    }
   },
   "outputs": [],
   "source": [
    "# melt labels columns\n",
    "df_labels_melted = df_labels.melt(\n",
    "    ids=\"responseId\",\n",
    "    values=([col for col in df_labels.columns if col != \"responseId\"]),\n",
    "    variableColumnName=\"qid_label\",\n",
    "    valueColumnName=\"qid_response_label\"\n",
    ")\n",
    "display(df_labels_melted)"
   ]
  },
  {
   "cell_type": "code",
   "execution_count": 0,
   "metadata": {
    "application/vnd.databricks.v1+cell": {
     "cellMetadata": {
      "byteLimit": 2048000,
      "rowLimit": 10000
     },
     "inputWidgets": {},
     "nuid": "ea70ba34-6cb5-430c-9652-d440a21512bf",
     "showTitle": false,
     "title": ""
    }
   },
   "outputs": [],
   "source": [
    "df_melted = df_qid_melted.join(\n",
    "    df_labels_melted, \n",
    "    (df_qid_melted[\"qid\"] == df_labels_melted[\"qid_label\"]) & (df_qid_melted[\"responseId\"] == df_labels_melted[\"responseId\"]),\n",
    "    \"outer\").select(df_qid_melted[\"*\"], df_labels_melted[\"qid_response_label\"])\n",
    "display(df_melted)"
   ]
  },
  {
   "cell_type": "code",
   "execution_count": 0,
   "metadata": {
    "application/vnd.databricks.v1+cell": {
     "cellMetadata": {
      "byteLimit": 2048000,
      "rowLimit": 10000
     },
     "inputWidgets": {},
     "nuid": "4d677fcf-88e9-4643-9e55-9c7e7be27588",
     "showTitle": false,
     "title": ""
    }
   },
   "outputs": [],
   "source": [
    "# join melted table with values, dropping the qid columns\n",
    "df_final = df_values.join(df_melted, on=\"responseId\", how=\"outer\")\n",
    "cols_to_drop = [col for col in df_final.columns if col.startswith(\"QID\")]\n",
    "df_final = df_final.drop(*cols_to_drop, \"labels\")\n",
    "df_final.printSchema()"
   ]
  },
  {
   "cell_type": "code",
   "execution_count": 0,
   "metadata": {
    "application/vnd.databricks.v1+cell": {
     "cellMetadata": {
      "byteLimit": 2048000,
      "rowLimit": 10000
     },
     "inputWidgets": {},
     "nuid": "9ca3d930-2dd7-4447-ab23-93a5b6937381",
     "showTitle": false,
     "title": ""
    }
   },
   "outputs": [],
   "source": [
    "display(df_final)"
   ]
  },
  {
   "cell_type": "code",
   "execution_count": 0,
   "metadata": {
    "application/vnd.databricks.v1+cell": {
     "cellMetadata": {
      "byteLimit": 2048000,
      "rowLimit": 10000
     },
     "inputWidgets": {},
     "nuid": "7de67dc9-16e2-47c9-affe-8e51ab3ca941",
     "showTitle": false,
     "title": ""
    }
   },
   "outputs": [],
   "source": [
    "display(df_final.select(F.col(\"qid\"), F.col(\"qid_response\"), F.col(\"qid_response_label\")).filter(F.col(\"qid\") == \"QID36_TEXT\"))"
   ]
  },
  {
   "cell_type": "markdown",
   "metadata": {
    "application/vnd.databricks.v1+cell": {
     "cellMetadata": {},
     "inputWidgets": {},
     "nuid": "2750601f-a07f-4e5d-a922-b4025afc191b",
     "showTitle": false,
     "title": ""
    }
   },
   "source": [
    "# wide table below"
   ]
  },
  {
   "cell_type": "markdown",
   "metadata": {
    "application/vnd.databricks.v1+cell": {
     "cellMetadata": {
      "byteLimit": 2048000,
      "rowLimit": 10000
     },
     "inputWidgets": {},
     "nuid": "3a4f0bef-e943-4c45-b363-8e0bab844d4f",
     "showTitle": false,
     "title": ""
    }
   },
   "source": [
    "Converting the labels fields"
   ]
  },
  {
   "cell_type": "code",
   "execution_count": 0,
   "metadata": {
    "application/vnd.databricks.v1+cell": {
     "cellMetadata": {
      "byteLimit": 2048000,
      "rowLimit": 10000
     },
     "inputWidgets": {},
     "nuid": "79e6cc94-37af-4f4f-ab6b-4f3b8db28a54",
     "showTitle": false,
     "title": ""
    }
   },
   "outputs": [],
   "source": [
    "df_labels = df_flattened.select(F.col(\"responseId\"), F.col(\"labels\"))\n",
    "df_labels.printSchema()"
   ]
  },
  {
   "cell_type": "code",
   "execution_count": 0,
   "metadata": {
    "application/vnd.databricks.v1+cell": {
     "cellMetadata": {
      "byteLimit": 2048000,
      "rowLimit": 10000
     },
     "inputWidgets": {},
     "nuid": "d364171c-0ad0-435e-a8ec-9af39209fc31",
     "showTitle": false,
     "title": ""
    }
   },
   "outputs": [],
   "source": [
    "# flatten labels column\n",
    "df_labels = df_labels.select(\n",
    "    \"responseId\",\n",
    "    *[F.col(f\"labels.{c}\").alias(c) for c in df_labels.schema[\"labels\"].dataType.fieldNames()]\n",
    ")\n",
    "df_labels.printSchema()"
   ]
  },
  {
   "cell_type": "code",
   "execution_count": 0,
   "metadata": {
    "application/vnd.databricks.v1+cell": {
     "cellMetadata": {
      "byteLimit": 2048000,
      "rowLimit": 10000
     },
     "inputWidgets": {},
     "nuid": "40d492a5-94ac-48b2-81a0-7442b0f08fbd",
     "showTitle": false,
     "title": ""
    }
   },
   "outputs": [],
   "source": [
    "# converting the array columns to String \n",
    "\n",
    "# get array columns\n",
    "array_columns = [f.name for f in df_labels.schema.fields if isinstance(f.dataType, T.ArrayType)]\n",
    "\n",
    "# concat_ws to convery array columns to comma-separated string\n",
    "for col_name in array_columns:\n",
    "    df_labels = df_labels.withColumn(\n",
    "        col_name, \n",
    "        F.array_join(\n",
    "            F.col(col_name),\n",
    "            \",\"\n",
    "        )\n",
    "    )\n",
    "\n",
    "df_labels.printSchema()"
   ]
  },
  {
   "cell_type": "code",
   "execution_count": 0,
   "metadata": {
    "application/vnd.databricks.v1+cell": {
     "cellMetadata": {
      "byteLimit": 2048000,
      "rowLimit": 10000
     },
     "inputWidgets": {},
     "nuid": "b7c9bd78-13e4-484e-b93e-c087d9072c1e",
     "showTitle": false,
     "title": ""
    }
   },
   "outputs": [],
   "source": [
    "# validate one of the array columns to ensure conversion to string didn't remove the data\n",
    "df_labels.select(F.col(\"QID146\")).filter(F.col(\"QID146\").isNotNull()).show(truncate=False)"
   ]
  },
  {
   "cell_type": "code",
   "execution_count": 0,
   "metadata": {
    "application/vnd.databricks.v1+cell": {
     "cellMetadata": {
      "byteLimit": 2048000,
      "rowLimit": 10000
     },
     "inputWidgets": {},
     "nuid": "0f07acf6-ed0a-47ed-8863-9a36868d65fc",
     "showTitle": false,
     "title": ""
    }
   },
   "outputs": [],
   "source": [
    "# add suffix to QID-fields\n",
    "df_labels_renamed = df_labels.select(\n",
    "    [F.col(c).alias(c + \"_label\") for c in df_labels.columns]\n",
    ").withColumnRenamed(\"responseId_label\", \"responseId\") # remove suffix from responseId column\n",
    "df_labels_renamed.printSchema()"
   ]
  },
  {
   "cell_type": "code",
   "execution_count": 0,
   "metadata": {
    "application/vnd.databricks.v1+cell": {
     "cellMetadata": {
      "byteLimit": 2048000,
      "rowLimit": 10000
     },
     "inputWidgets": {},
     "nuid": "c278a733-18da-4935-8c93-bce28da64649",
     "showTitle": false,
     "title": ""
    }
   },
   "outputs": [],
   "source": [
    "# create final dataframe combining the values and the labels\n",
    "df_final = df_values.join(df_labels_renamed, \"responseId\", \"left\")\n",
    "df_final = df_final.select(sorted(df_final.columns)).drop(F.col(\"labels\"))\n",
    "df_final.printSchema()"
   ]
  },
  {
   "cell_type": "code",
   "execution_count": 0,
   "metadata": {
    "application/vnd.databricks.v1+cell": {
     "cellMetadata": {
      "byteLimit": 2048000,
      "rowLimit": 10000
     },
     "inputWidgets": {},
     "nuid": "b3315c0c-5622-4204-a164-6ffb25d2f989",
     "showTitle": false,
     "title": ""
    }
   },
   "outputs": [],
   "source": [
    "display(df_final)"
   ]
  },
  {
   "cell_type": "code",
   "execution_count": 0,
   "metadata": {
    "application/vnd.databricks.v1+cell": {
     "cellMetadata": {},
     "inputWidgets": {},
     "nuid": "7f8c922d-558b-4649-80fa-0ed08c50344b",
     "showTitle": false,
     "title": ""
    }
   },
   "outputs": [],
   "source": []
  }
 ],
 "metadata": {
  "application/vnd.databricks.v1+notebook": {
   "dashboards": [],
   "environmentMetadata": null,
   "language": "python",
   "notebookMetadata": {
    "pythonIndentUnit": 4
   },
   "notebookName": "Qualtrics_responses",
   "widgets": {}
  },
  "language_info": {
   "name": "python"
  }
 },
 "nbformat": 4,
 "nbformat_minor": 0
}
